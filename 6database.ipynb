{
 "cells": [
  {
   "cell_type": "code",
   "execution_count": null,
   "id": "4b101324",
   "metadata": {},
   "outputs": [],
   "source": [
    "# 导入akshare,pandas\n",
    "import akshare as ak\n",
    "import pandas as pd\n",
    "# 导入sqlalchemy，一个sql映射处理库\n",
    "from sqlalchemy import Column, String, create_engine"
   ]
  },
  {
   "cell_type": "code",
   "execution_count": null,
   "id": "c92e1a4f",
   "metadata": {},
   "outputs": [],
   "source": [
    "# 链接数据库\n",
    "engine = create_engine('sqlite:///temp_data.db', echo=True)"
   ]
  },
  {
   "cell_type": "code",
   "execution_count": null,
   "id": "559bebf9",
   "metadata": {
    "scrolled": true
   },
   "outputs": [],
   "source": [
    "## 实时行情数据-东财\n",
    "stock_data = ak.stock_zh_a_spot_em()\n",
    "stock_data"
   ]
  },
  {
   "cell_type": "code",
   "execution_count": null,
   "id": "e4d75765",
   "metadata": {},
   "outputs": [],
   "source": [
    "### 入库\n",
    "stock_data.to_sql('stock_data', con=engine,\n",
    "                  if_exists='replace', index=False)  "
   ]
  },
  {
   "cell_type": "code",
   "execution_count": null,
   "id": "898b4429",
   "metadata": {
    "scrolled": true
   },
   "outputs": [],
   "source": [
    "##申万行业分类表格提取\n",
    "basestation =\"swclass217.xlsx\"\n",
    "###pandas库提取excel命令.read_excel\n",
    "ind_data = pd.read_excel(basestation)\n",
    "ind_data"
   ]
  },
  {
   "cell_type": "code",
   "execution_count": null,
   "id": "f1e16431",
   "metadata": {
    "scrolled": true
   },
   "outputs": [],
   "source": [
    "### 入库\n",
    "ind_data.to_sql('ind_data', con=engine,\n",
    "                  if_exists='replace', index=False)  # 转sql"
   ]
  },
  {
   "cell_type": "code",
   "execution_count": null,
   "id": "97a95af2",
   "metadata": {},
   "outputs": [],
   "source": [
    "## 提取实时行情数据表内容\n",
    "sql = 'SELECT * FROM stock_data'\n",
    "data = pd.read_sql_query(sql, engine)\n",
    "data"
   ]
  }
 ],
 "metadata": {
  "kernelspec": {
   "display_name": "Python 3 (ipykernel)",
   "language": "python",
   "name": "python3"
  },
  "language_info": {
   "codemirror_mode": {
    "name": "ipython",
    "version": 3
   },
   "file_extension": ".py",
   "mimetype": "text/x-python",
   "name": "python",
   "nbconvert_exporter": "python",
   "pygments_lexer": "ipython3",
   "version": "3.11.0"
  }
 },
 "nbformat": 4,
 "nbformat_minor": 5
}
