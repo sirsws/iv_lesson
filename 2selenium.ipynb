{
 "cells": [
  {
   "cell_type": "code",
   "execution_count": null,
   "id": "acabb677-179d-4272-bc21-22f2170e145d",
   "metadata": {},
   "outputs": [],
   "source": [
    "# Selenium库巨潮资讯网评估说明批量下载\n",
    "## 巨潮资讯网是中国证监会指定的上市公司信息披露网站,平台提供上市公司公告、公司资讯、公司互动、股东大会网络投票等内容功能。也包括披露的评估报告、说明等"
   ]
  },
  {
   "cell_type": "code",
   "execution_count": null,
   "id": "48010c69-b79f-479f-b510-c322b4933447",
   "metadata": {},
   "outputs": [],
   "source": [
    "# 导入库\n",
    "## from-import从selenium自动检测库中导入其模拟浏览器控制功能\n",
    "from selenium import webdriver\n",
    "from selenium.webdriver.common.by import By\n",
    "## re正则表达式库用于后面数据清洗\n",
    "import re\n",
    "## time库用于设置等待时间\n",
    "import time\n",
    "## os库用于系统文件操作方便存储文件\n",
    "import os"
   ]
  },
  {
   "cell_type": "code",
   "execution_count": null,
   "id": "a254e506-48bd-4eab-a84a-24353eb3ab81",
   "metadata": {},
   "outputs": [],
   "source": [
    "## 使用Selenium库提取数据，还需要安装一下模拟浏览器。\n",
    "## 本次使用Google浏览器Chrome,其模拟浏览器为ChromeDriver。\n",
    "## 模拟浏览器需要与浏览器版本一致，在Google浏览器菜单栏选择帮助->关于Google Chrome可查看浏览器版本号\n",
    "## 对应的模拟浏览器为ChromeDriver\n",
    "## 在https://sites.google.com/a/chromium.org/chromedriver/downloads或镜像网站http://npm.taobao.org/mirrors/chromedriver/下载对应版本安装包\n",
    "## 解压后将其exe文件放在Python\\scripts文件夹中，在命令提示符中输入where python可查到python文件夹位置"
   ]
  },
  {
   "cell_type": "code",
   "execution_count": null,
   "id": "bd312a6e-f52c-4aab-bfdc-6f1b5ea0c983",
   "metadata": {},
   "outputs": [],
   "source": [
    "# 获取下载页面信息\n",
    "## Selenium库链接并模拟访问\n",
    "### 设置模拟浏览器webdriver.Chrome()和url地址\n",
    "browser = webdriver.Chrome()\n",
    "url = 'http://www.cninfo.com.cn/new/fulltextSearch?notautosubmit=&keyWord=评估说明'\n",
    "### .get(url)启动模拟浏览器并进入url地址\n",
    "browser.get(url)\n",
    "### time库延时等待页面读取\n",
    "time.sleep(5)\n",
    "### .page_source提取页面数据\n",
    "data = browser.page_source\n",
    "## 点击翻页并存储数据\n",
    "### 建立一个列表存储每页信息\n",
    "datas = []\n",
    "datas.append(data) \n",
    "## 设置翻页次数并执行翻页\n",
    "pages=2\n",
    "for i in range(pages):  \n",
    "## 在页面f12后用箭头查看按钮代码，右键copy->copy Xpath查询xpath地址\n",
    "## browser.find_element_by_xpath查找xpath地址，.click()模拟鼠标点击\n",
    "    browser.find_element(By.XPATH,'//*[@id=\"fulltext-search\"]/div[2]/div/div/div[2]/div[4]/div[2]/div/button[2]/i').click()\n",
    "## 等待加载\n",
    "    time.sleep(3)\n",
    "## 获取下页信息\n",
    "    data = browser.page_source\n",
    "    datas.append(data)\n",
    "    time.sleep(1)\n",
    "## 使用.join命令将list中信息链接起来，前面\"\"中为连接符设置，这里不需要故设置为空\n",
    "alldata = \"\".join(datas)\n",
    "### 推出模拟浏览器\n",
    "browser.quit()"
   ]
  },
  {
   "cell_type": "code",
   "execution_count": null,
   "id": "70e12881",
   "metadata": {},
   "outputs": [],
   "source": [
    "#alldata\n",
    "#<span title=\"\" class=\"r-title\">招商局蛇口工业区控股股份有限公司拟发行股份购买深圳市投资控股有限公司持有的深圳市南油（集团）有限公司24%股权涉及的深圳市南油（集团）有限公司股东全部权益价值资产<em>评估</em><em>说明</em></span> "
   ]
  },
  {
   "cell_type": "code",
   "execution_count": null,
   "id": "adde0a67-5fc3-4fe0-a165-6467d3c16488",
   "metadata": {},
   "outputs": [],
   "source": [
    "# re库数据清洗\n",
    "## 查找标题，网址，日期信息\n",
    "####这里我们只需要记住(.*?)为取()中的任意内容\n",
    "p_title = '<span title=\"\" class=\"r-title\">(.*?)</span>'\n",
    "p_href = '<a target=\"_blank\" href=\"(.*?)\" data-id='\n",
    "title = re.findall(p_title, alldata)\n",
    "print(title)\n",
    "href = re.findall(p_href, alldata)\n",
    "print(href)\n"
   ]
  },
  {
   "cell_type": "code",
   "execution_count": null,
   "id": "0dcdad5e",
   "metadata": {},
   "outputs": [],
   "source": [
    "## 对上面查到信息进行清洗\n",
    "for i in range(len(title)):\n",
    "## re.sub,re库替换命令，将<>部分去掉\n",
    "    title[i] = re.sub('<.*?>', '', title[i])\n",
    "## 补上主域名去掉amp;\n",
    "    href[i] = 'http://www.cninfo.com.cn' + href[i]\n",
    "    href[i] = re.sub('amp;', '', href[i])\n",
    "    print(str(i + 1) + '.' + title[i])\n",
    "    print(href[i])"
   ]
  },
  {
   "cell_type": "code",
   "execution_count": null,
   "id": "42b51339-d8c9-4ffd-b4ce-45dd450b4848",
   "metadata": {},
   "outputs": [],
   "source": [
    "# 进一步筛选评估说明字样是否在其中\n",
    "for i in range(len(title)):\n",
    "    if '评估说明' in title[i]:  \n",
    "        title[i] = title[i]\n",
    "        href[i] = href[i]\n",
    "    else:\n",
    "        title[i] = ''\n",
    "        href[i] = ''\n",
    "while '' in title:\n",
    "    title.remove('')\n",
    "while '' in href:\n",
    "    href.remove('')"
   ]
  },
  {
   "cell_type": "code",
   "execution_count": null,
   "id": "0ce50d37-fd60-42f4-8aea-5779fd52c2e5",
   "metadata": {},
   "outputs": [],
   "source": [
    "# 逐页下载\n",
    "# for i in range(len(href)):\n",
    "for i in range(5):   ##限定下载数量\n",
    "## 设置下载路径(目录需要提前建立好)\n",
    "    chrome_options = webdriver.ChromeOptions()\n",
    "    prefs = {'profile.default_content_settings.popups': 0,\n",
    "             'download.default_directory': 'c:\\\\pinggushuoming'} \n",
    "    chrome_options.add_experimental_option('prefs', prefs)\n",
    "    browser = webdriver.Chrome(chrome_options=chrome_options)\n",
    "## 进入之前取得的下载链接\n",
    "    browser.get(href[i])\n",
    "## 寻找下载按键并点击\n",
    "    browser.find_element(By.XPATH,\n",
    "        '//*[@id=\"noticeDetail\"]/div/div[1]/div[3]/div[1]/button/span').click() \n",
    "    time.sleep(6) \n",
    "## 判断是否下载完成，设置一个download_status下载状态标志进行检测\n",
    "    download_status = False\n",
    "    while not download_status:  \n",
    "        download_status = True\n",
    "## 报告文件没下载完时后缀名为.crdownload\n",
    "## 用os库的.listdir命令检索文件夹中所有文件\n",
    "        for j in os.listdir('c:\\\\pinggushuoming'):\n",
    "## 用.endswith命令查询文件中是否有没下载完的.crdownload文件名，如果没有就把下载状态标志改为True结束循环判断\n",
    "            if j.endswith(\".crdownload\"):\n",
    "                download_status = False\n",
    "                time.sleep(5)\n",
    "## 文字工作提示\n",
    "    print(str(i+1) + '.' + title[i] + '下载完毕')\n",
    "    browser.quit()\n"
   ]
  }
 ],
 "metadata": {
  "kernelspec": {
   "display_name": "Python 3 (ipykernel)",
   "language": "python",
   "name": "python3"
  },
  "language_info": {
   "codemirror_mode": {
    "name": "ipython",
    "version": 3
   },
   "file_extension": ".py",
   "mimetype": "text/x-python",
   "name": "python",
   "nbconvert_exporter": "python",
   "pygments_lexer": "ipython3",
   "version": "3.11.0"
  }
 },
 "nbformat": 4,
 "nbformat_minor": 5
}
