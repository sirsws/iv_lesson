{
 "cells": [
  {
   "cell_type": "code",
   "execution_count": null,
   "id": "e083f825-c7e7-44c9-ab18-5aeb0806bf6f",
   "metadata": {},
   "outputs": [],
   "source": [
    "# Jupyter的编译界面由不同的方块组成，我们按上面+号可以创建新块，可以直接用鼠标上下拖动顺序。想要执行一个方块，可以使用上面的run菜单，点三角，或者ctrl+enter快捷键。"
   ]
  },
  {
   "cell_type": "code",
   "execution_count": null,
   "id": "1ec70784",
   "metadata": {},
   "outputs": [],
   "source": [
    "\n",
    "##   #号后面是注释，不会被执行\n"
   ]
  },
  {
   "cell_type": "code",
   "execution_count": null,
   "id": "3d382293-214e-4f09-a225-bc165a1778e1",
   "metadata": {},
   "outputs": [],
   "source": [
    "# 下面简单过一些基础知识，方面看后面示例程序\n",
    "## Python中除注释外所有部分程序输入请使用英文输入法，防止出现全角半角错误"
   ]
  },
  {
   "cell_type": "code",
   "execution_count": null,
   "id": "e582df71-907e-4c8f-a69a-7317ee167a9d",
   "metadata": {},
   "outputs": [],
   "source": [
    "# 行\n",
    "## Python中内容是一行一行输入的，输入完按enter即可换行\n",
    "## Jupyter中显示行号点击菜单View->Line Numbers\n",
    "## 程序报错时会提示错误行号和问题类型，请对应修改，如下例\n",
    "冬奥会\n"
   ]
  },
  {
   "cell_type": "code",
   "execution_count": null,
   "id": "7e9bc18a",
   "metadata": {},
   "outputs": [],
   "source": [
    "a='Hello World.'\n",
    "a"
   ]
  },
  {
   "cell_type": "code",
   "execution_count": null,
   "id": "0e770314-68d8-4508-92d0-8641fcf4153d",
   "metadata": {},
   "outputs": [],
   "source": [
    "# 变量\n",
    "## 就是数学的字面理解。可以看成一个小箱子，专门用来“盛装”程序中的数据。每个变量都拥有独一无二的名字，通过变量的名字就能找到变量中的数据。\n",
    "## 从底层看，程序中的数据最终都要放到内存（内存条）中，变量其实就是这块内存的名字。\n",
    "## 变量是标识符的一种，它的名字不能随便起，要避免和内置函数及保留命令冲突，通常由字母数字和_组成\n",
    "## 给变量赋值使用=号\n",
    "\n",
    "keyword='狂飙'\n",
    "\n",
    "## 使用print 命令查看变量内容\n",
    "\n",
    "print(keyword)"
   ]
  },
  {
   "cell_type": "code",
   "execution_count": null,
   "id": "61ee56ff",
   "metadata": {},
   "outputs": [],
   "source": [
    "## 变量也可以随时被修改\n",
    "\n",
    "keyword='流浪地球'\n",
    "print(keyword)"
   ]
  },
  {
   "cell_type": "code",
   "execution_count": null,
   "id": "84065fd5-46fd-430e-84f8-1302a6f791f2",
   "metadata": {},
   "outputs": [],
   "source": [
    "# 数据类型\n",
    "## Python中有六种数据类型，数字,字符串,列表,元组,集合,字典。这里简单介绍前三种类型，后面示例会用到\n",
    "## 查看类型使用type命令\n",
    "\n",
    "type(keyword)\n",
    "\n",
    "## 可以看到keyword为str字符串类型"
   ]
  },
  {
   "cell_type": "code",
   "execution_count": null,
   "id": "745cd826",
   "metadata": {},
   "outputs": [],
   "source": [
    "## 数字类型\n",
    "### 后面主要会用到int整数型和float浮点型,变量赋值时会自动匹配类型，我们也可以手动进行强制修改\n",
    "\n",
    "a=1\n",
    "b=1.1\n",
    "c=float(a)\n",
    "print(type(a),type(b),type(c))"
   ]
  },
  {
   "cell_type": "code",
   "execution_count": null,
   "id": "4224dfbb",
   "metadata": {},
   "outputs": [],
   "source": [
    "## 字符串类型str\n",
    "### 字符串的特点是两边加单引号''或双引号\"\"\n",
    "\n",
    "c='我是字符串'\n",
    "type(c)"
   ]
  },
  {
   "cell_type": "code",
   "execution_count": null,
   "id": "b4f55635",
   "metadata": {},
   "outputs": [],
   "source": [
    "## 列表类型list\n",
    "### 用于存储多个内容，两边加中括号[]表示列表\n",
    "\n",
    "d=[a,b,c]\n",
    "print(d)"
   ]
  },
  {
   "cell_type": "code",
   "execution_count": null,
   "id": "04bc49f8",
   "metadata": {},
   "outputs": [],
   "source": [
    "### 可以选定其中位置，位置编号从0开始，倒着选择从-1开始，也可以使用:切片\n",
    "\n",
    "print(d[0],d[-1],d[1:3])"
   ]
  },
  {
   "cell_type": "code",
   "execution_count": null,
   "id": "942867df",
   "metadata": {},
   "outputs": [],
   "source": [
    "# 待用运算符简介\n",
    "## 算数运算符\n",
    "### 后面会用到的运算符主要有+-*/%（返回余数）\n",
    "### 其中+也可以用来拼接字符串,字符串和数字不能拼接\n",
    "\n",
    "e='拼接'+c\n",
    "print(e)"
   ]
  },
  {
   "cell_type": "code",
   "execution_count": null,
   "id": "c7b11015-8c25-4f55-90d5-4b3b922636d0",
   "metadata": {},
   "outputs": [],
   "source": [
    "## 比较运算符\n",
    "### 后面会用到的比较运算符\n",
    "### >,<,=,>=,<=如字面意思\n",
    "### ==判断是否相等，!=判断是否不等，返回True或False，不同于=\n",
    "\n",
    "print(c==e,'拼接'+c==e)"
   ]
  },
  {
   "cell_type": "code",
   "execution_count": null,
   "id": "85d313f8",
   "metadata": {},
   "outputs": [],
   "source": [
    "## 逻辑运算符\n",
    "### and,or,not与或非，用于判断筛选\n",
    "\n",
    "## 成员运算符\n",
    "### in,not in判断是否在"
   ]
  },
  {
   "cell_type": "code",
   "execution_count": null,
   "id": "c8086b1e-651f-4214-a2a0-2c53dfa31401",
   "metadata": {},
   "outputs": [],
   "source": [
    "# 待用语句简介\n",
    "## 缩进\n",
    "### 下面语句中都要用到缩进，区分内外部内容,用四个空格实现(有时也设置为Tab)\n",
    "\n",
    "## if条件语句\n",
    "### 用于条件判断，注意其中的:和内容缩进\n",
    "\n",
    "information='《狂飙》等影视剧在两岸同时掀起追剧热潮'\n",
    "if '狂飙' in information:\n",
    "    print('狂飙相关')\n",
    "elif '流浪地球' in information:\n",
    "    print('流浪地球相关')\n",
    "else:\n",
    "    print('不知道是啥')        "
   ]
  },
  {
   "cell_type": "code",
   "execution_count": null,
   "id": "8fd549fe",
   "metadata": {},
   "outputs": [],
   "source": [
    "# for循环语句\n",
    "information_list=[['第一条','今天上课'],['第二条','在家看狂飙'],['第三条','宿舍看流浪地球']]\n",
    "\n",
    "for a in information_list:\n",
    "    if '狂飙' in a[1]:\n",
    "        print(a[0]+'狂飙相关')\n",
    "    elif '流浪地球' in a[1]:\n",
    "        print(a[0]+'流浪地球相关')\n",
    "    else:\n",
    "        print(a[0]+'不知道是啥')    "
   ]
  },
  {
   "cell_type": "code",
   "execution_count": null,
   "id": "1f21c225",
   "metadata": {},
   "outputs": [],
   "source": [
    "## while循环语句\n",
    "\n",
    "information_list=[['第一条','今天上课'],['第二条','在家看狂飙'],['第三条','宿舍看流浪地球']]\n",
    "f=0\n",
    "while f<5:\n",
    "    for a in information_list:\n",
    "        if '狂飙' in a[1]:\n",
    "            print(a[0]+'狂飙相关')\n",
    "        elif '流浪地球' in a[1]:\n",
    "            print(a[0]+'流浪地球相关')\n",
    "        else:\n",
    "            print(a[0]+'不知道是啥')\n",
    "    #f=f+1 \n",
    "### 出现无限循环点击Kernel->Shut down Kernel终止，终止后Kernel->Restart                   "
   ]
  },
  {
   "cell_type": "code",
   "execution_count": null,
   "id": "b32f55f2",
   "metadata": {},
   "outputs": [],
   "source": [
    "## try/except异常处理语句\n",
    "### 可以规避异常，但优势我们需要发现异常值来进行纠错，谨慎使用\n",
    "\n",
    "information_list=[['第一条','今天上课'],['第二条','在家看狂飙'],['第三条','宿舍看流浪地球']]\n",
    "# information_list='今天打酱油'\n",
    "try:\n",
    "    for a in information_list:\n",
    "        if '狂飙' in a[1]:\n",
    "            print(a[0]+'狂飙相关')\n",
    "        elif '流浪地球' in a[1]:\n",
    "            print(a[0]+'流浪地球相关')\n",
    "        else:\n",
    "            print(a[0]+'不知道是啥')\n",
    "except:\n",
    "    print('输入错了吧')"
   ]
  },
  {
   "cell_type": "code",
   "execution_count": null,
   "id": "6e91da85-da2c-4cb3-9ab1-047c8917e049",
   "metadata": {},
   "outputs": [],
   "source": [
    "# 待用函数知识简介\n",
    "## 改写一下上面程序\n",
    "# information_list=[['第一条','今天上课'],['第二条','在家看狂飙'],['第三条','宿舍看流浪地球']]\n",
    "information_list=['今天上课','在家看狂飙','宿舍看流浪地球']\n",
    "\n",
    "##这里len是取长度，range是取范围\n",
    "\n",
    "print(len(information_list))\n",
    "\n",
    "b=0\n",
    "c=0\n",
    "for a in range(len(information_list)): #通常用enumerate实现，可以自行研究\n",
    "    print('我是range值'+str(a))\n",
    "    if '狂飙' in information_list[a]:\n",
    "        print(str(a)+'狂飙相关')\n",
    "        b=b+1\n",
    "    elif '流浪地球' in information_list[a]:\n",
    "        print(str(a)+'流浪地球相关')\n",
    "        c=c+1\n",
    "    else:\n",
    "        print(str(a)+'不知道是啥')        "
   ]
  },
  {
   "cell_type": "code",
   "execution_count": null,
   "id": "1f8c2ca0",
   "metadata": {},
   "outputs": [],
   "source": [
    "# 程序函数化\n",
    "\n",
    "def w_video(information_list):\n",
    "    \"\"\"狂飙、流浪地球影视关键词检索\n",
    "    检索输入内容中包含狂飙、流浪地球影视关键词的信息数量\n",
    "\n",
    "    Args:\n",
    "        information_list (_list_): _输入信息_\n",
    "\n",
    "    Returns:\n",
    "        b(_int_): _含狂飙信息数量_\n",
    "        c(_int_): _含流浪地球信息数量_\n",
    "    \"\"\"\n",
    "    b=0\n",
    "    c=0\n",
    "    for a in range(len(information_list)):\n",
    "        #print('我是range值'+str(a))\n",
    "        if '狂飙' in information_list[a]:\n",
    "            #print(str(a)+'狂飙相关')\n",
    "            b=b+1\n",
    "        elif '流浪地球' in information_list[a]:\n",
    "            #print(str(a)+'流浪地球相关')\n",
    "            c=c+1\n",
    "        else:\n",
    "            #print(str(a)+'不知道是啥')\n",
    "            continue\n",
    "    return b,c"
   ]
  },
  {
   "cell_type": "code",
   "execution_count": null,
   "id": "427feaf6",
   "metadata": {},
   "outputs": [],
   "source": [
    "information_list=['今天上课','在家看狂飙','宿舍看流浪地球','冬奥会冰墩墩热卖','乌克兰','满江红评分很高','狂飙高启强火了']\n",
    "d=w_video(information_list)\n",
    "print('以下是结论：')\n",
    "print(str(d[0])+'条狂飙相关')\n",
    "print(str(d[1])+'条流浪地球相关')"
   ]
  },
  {
   "cell_type": "code",
   "execution_count": null,
   "id": "23afd071-9a19-4b23-864b-88d51ddd97ae",
   "metadata": {},
   "outputs": [],
   "source": [
    "# 库\n",
    "## Python有内置标准库，参考https://docs.python.org/zh-cn/3/library/index.html\n",
    "## 不在标准库中的外部库，我们需要使用import命令导入\n",
    "## 比如后面要用到的requests库\n",
    "\n",
    "import requests\n",
    "import re\n",
    "\n",
    "## 这里如果报错，表示这个外部库还没有被安装，我们需要进入命令提示符，输入pip install 库名进行安装。在上面的示例中就是pip install requests#\n",
    "## 通常导入库要放在程序最上面，定义函数要紧接着导入库"
   ]
  },
  {
   "cell_type": "code",
   "execution_count": null,
   "id": "68a3ca8d-8850-490d-9a16-f452c84d623b",
   "metadata": {},
   "outputs": [],
   "source": [
    "# requests库和re库简单示例程序\n",
    "# 功能：一个简单的新闻检索程序，监测搜狗关键词搜索新闻内容中狂飙和流浪地球相关新闻数量\n",
    "# 可以通过更换keyword变量内容调整关键词\n",
    "# 狂飙和流浪地球替换功能没有做，如需替换成其他可以全文替换对应内容\n",
    "\n",
    "## 这段后面讲\n",
    "headers = {'User-Agent': 'Mozilla/5.0 (Windows NT 10.0; Win64; x64) AppleWebKit/537.36 (KHTML, like Gecko) Chrome/85.0.4183.83 Safari/537.36'}\n",
    "keyword='吴京，高启强'\n",
    "url = f'https://www.sogou.com/sogou?query={keyword}&tsn=3&&sourceid=inttime_month'\n",
    "res = requests.get(url, headers=headers, timeout=10,verify=False).text\n",
    "p_total='<a class=\" \" target=\"_blank\".*?>(.*?)</a>'        \n",
    "total=re.findall(p_total,res,re.S)\n",
    "\n",
    "## 建立一个空的list存放新闻信息\n",
    "informations=[]\n",
    "for i in range(len(total)):\n",
    "\n",
    "## 用append将信息内容加在原list最后\n",
    "    informations.append(total[i])\n",
    "#print(informations)\n",
    "\n",
    "#将新闻信息列表代入上面函数\n",
    "d=w_video(informations)\n",
    "\n",
    "print(url)\n",
    "print(str(d[0])+'条狂飙相关')\n",
    "print(str(d[1])+'条流浪地球相关')   "
   ]
  }
 ],
 "metadata": {
  "kernelspec": {
   "display_name": "Python 3 (ipykernel)",
   "language": "python",
   "name": "python3"
  },
  "language_info": {
   "codemirror_mode": {
    "name": "ipython",
    "version": 3
   },
   "file_extension": ".py",
   "mimetype": "text/x-python",
   "name": "python",
   "nbconvert_exporter": "python",
   "pygments_lexer": "ipython3",
   "version": "3.11.0"
  },
  "vscode": {
   "interpreter": {
    "hash": "703b9c8b8560d7262ae3a91b1c465800caf44b71ddc19f32ae07abde9883fc7e"
   }
  }
 },
 "nbformat": 4,
 "nbformat_minor": 5
}
