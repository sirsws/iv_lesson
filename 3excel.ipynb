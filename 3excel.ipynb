{
 "cells": [
  {
   "cell_type": "code",
   "execution_count": null,
   "id": "b8136867-3c6a-46f6-9530-797c2008d937",
   "metadata": {},
   "outputs": [],
   "source": [
    "#pandas库简单读取excel进行处理"
   ]
  },
  {
   "cell_type": "code",
   "execution_count": null,
   "id": "ef625601-9f62-4d24-bb8d-1e322d4eae24",
   "metadata": {},
   "outputs": [],
   "source": [
    "import pandas as pd"
   ]
  },
  {
   "cell_type": "code",
   "execution_count": null,
   "id": "1c7ab6c6-735b-4e7b-8c23-ec8286410920",
   "metadata": {},
   "outputs": [],
   "source": [
    "#申万行业分类表格提取\n",
    "basestation =\"swclass217.xlsx\"\n",
    "##pandas库提取excel命令.read_excel\n",
    "data = pd.read_excel(basestation)\n",
    "data"
   ]
  },
  {
   "cell_type": "code",
   "execution_count": null,
   "id": "00ab2846-59c2-4a89-b71c-4b8b5c1ffb9a",
   "metadata": {},
   "outputs": [],
   "source": [
    "#筛选特定行业\n",
    "data[data['新版三级行业']=='种子']"
   ]
  },
  {
   "cell_type": "code",
   "execution_count": null,
   "id": "da2bf3a6-00f5-4abd-bc18-489a1869db21",
   "metadata": {},
   "outputs": [],
   "source": [
    "#筛选特定公司\n",
    "data[data['公司简称']=='双汇发展']"
   ]
  }
 ],
 "metadata": {
  "kernelspec": {
   "display_name": "Python 3 (ipykernel)",
   "language": "python",
   "name": "python3"
  },
  "language_info": {
   "codemirror_mode": {
    "name": "ipython",
    "version": 3
   },
   "file_extension": ".py",
   "mimetype": "text/x-python",
   "name": "python",
   "nbconvert_exporter": "python",
   "pygments_lexer": "ipython3",
   "version": "3.11.0"
  }
 },
 "nbformat": 4,
 "nbformat_minor": 5
}
