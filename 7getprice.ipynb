{
 "cells": [
  {
   "cell_type": "code",
   "execution_count": null,
   "id": "65451063-d5b9-4dfc-8e35-564c3fbde4d9",
   "metadata": {},
   "outputs": [],
   "source": [
    "# 导入akshare\n",
    "import akshare as ak\n",
    "import pandas as pd\n"
   ]
  },
  {
   "cell_type": "code",
   "execution_count": null,
   "id": "b784bba0-193f-4a29-89f9-0b74bd0d121f",
   "metadata": {},
   "outputs": [],
   "source": [
    "# 根据名称查代码"
   ]
  },
  {
   "cell_type": "code",
   "execution_count": null,
   "id": "67e738e6-d540-49ab-b810-2c79caf2a8ba",
   "metadata": {},
   "outputs": [],
   "source": [
    "name=\"双汇发展\"\n",
    "## 实时行情数据-东财\n",
    "stock_data = ak.stock_zh_a_spot_em()\n",
    "stock_code = stock_data[stock_data[\"名称\"]==name].iloc[0][\"代码\"]\n",
    "stock_code"
   ]
  },
  {
   "cell_type": "code",
   "execution_count": null,
   "id": "b489bbc2-6c4d-4b21-82dd-ed1fc75b350c",
   "metadata": {},
   "outputs": [],
   "source": [
    "# 根据代码和日期查股价"
   ]
  },
  {
   "cell_type": "code",
   "execution_count": null,
   "id": "2ab91af3-02b5-44ed-ad22-b05994c079ce",
   "metadata": {},
   "outputs": [],
   "source": [
    "benchmark_date = \"20230214\"\n",
    "## 历史行情数据-东财\n",
    "stock_data = ak.stock_zh_a_hist(symbol=stock_code, period=\"daily\", start_date=benchmark_date, end_date=benchmark_date, adjust=\"qfq\")\n",
    "stock_price = stock_data.iloc[0][\"收盘\"]\n",
    "stock_price"
   ]
  },
  {
   "cell_type": "code",
   "execution_count": null,
   "id": "d0f5e3be-e50d-433d-9d7b-8a9d739f5d69",
   "metadata": {},
   "outputs": [],
   "source": [
    "# 链接并做成简单批量查询程序"
   ]
  },
  {
   "cell_type": "code",
   "execution_count": null,
   "id": "d5271946-0be5-49fd-95af-a1e9fe627556",
   "metadata": {},
   "outputs": [],
   "source": [
    "def stockvalue(stock_names,stock_quantities,benchmark_date):\n",
    "    \"\"\"交易性金融资产市值估价程序\n",
    "    对企业基准日持有交易性金融资产进行估价\n",
    "\n",
    "    Args:\n",
    "        stock_names (_list_): _股票名称_\n",
    "        stock_quantities (_list_): _持股数量_\n",
    "        benchmark_date (_str_): _基准日\"YYYYMMDD\"格式_\n",
    "        \n",
    "    Returns:\n",
    "        df(_pandas.dataframe_): _包含结果信息表格_\n",
    "    \"\"\"\n",
    "    stock_codes = []\n",
    "    stock_data = ak.stock_zh_a_spot_em()\n",
    "    for name in stock_names:    \n",
    "        stock_code = stock_data[stock_data[\"名称\"]==name].iloc[0][\"代码\"]\n",
    "        stock_codes.append(stock_code)\n",
    "\n",
    "    stock_prices = []\n",
    "    for i in range(len(stock_codes)):\n",
    "        stock_data = ak.stock_zh_a_hist(symbol=stock_codes[i], period=\"daily\", start_date=benchmark_date, end_date=benchmark_date, adjust=\"qfq\")\n",
    "        stock_price = stock_data.iloc[0][\"收盘\"]\n",
    "        stock_prices.append(stock_price)\n",
    "\n",
    "    evaluation_values = []\n",
    "    for i in range(len(stock_prices)):\n",
    "        evaluation_value = stock_prices[i] * stock_quantities[i]\n",
    "        evaluation_values.append(evaluation_value)\n",
    "\n",
    "    df = pd.DataFrame({\n",
    "        \"股票名称\": stock_names,\n",
    "        \"股票代码\": stock_codes,\n",
    "        \"基准日\": [benchmark_date] * len(stock_names),\n",
    "        \"收盘价\": stock_prices,\n",
    "        \"股票数量\": stock_quantities,\n",
    "        \"评估值\": evaluation_values\n",
    "    })\n",
    "    return df"
   ]
  },
  {
   "cell_type": "code",
   "execution_count": null,
   "id": "1dd8aad3-dc0a-4ac5-9b20-5015469cf4ee",
   "metadata": {},
   "outputs": [],
   "source": [
    "stock_names = [\"中国平安\", \"招商银行\", \"中国建筑\"]\n",
    "stock_quantities = [1000, 2000, 500]\n",
    "benchmark_date = \"20230214\"\n",
    "\n",
    "stockvalue(stock_names,stock_quantities,benchmark_date)"
   ]
  }
 ],
 "metadata": {
  "kernelspec": {
   "display_name": "Python 3 (ipykernel)",
   "language": "python",
   "name": "python3"
  },
  "language_info": {
   "codemirror_mode": {
    "name": "ipython",
    "version": 3
   },
   "file_extension": ".py",
   "mimetype": "text/x-python",
   "name": "python",
   "nbconvert_exporter": "python",
   "pygments_lexer": "ipython3",
   "version": "3.11.0"
  }
 },
 "nbformat": 4,
 "nbformat_minor": 5
}
