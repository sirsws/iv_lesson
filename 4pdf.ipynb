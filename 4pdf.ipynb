{
 "cells": [
  {
   "cell_type": "code",
   "execution_count": null,
   "id": "1ced5149-d159-4907-b1d1-aaed6076f75f",
   "metadata": {},
   "outputs": [],
   "source": [
    "#pdf内容检索并批量处理"
   ]
  },
  {
   "cell_type": "code",
   "execution_count": null,
   "id": "bad5bf2b-7a9e-471b-b701-36a2e6b88f43",
   "metadata": {},
   "outputs": [],
   "source": [
    "#pdfplumber库进行pdf处理\n",
    "import pdfplumber\n",
    "import os"
   ]
  },
  {
   "cell_type": "code",
   "execution_count": null,
   "id": "d9d1de08-29a5-4c90-af2d-e067375f2f29",
   "metadata": {},
   "outputs": [],
   "source": [
    "#用os库建立文件夹中pdf文件列表\n",
    "file_dir = 'c:\\\\pinggushuomingtext'  \n",
    "file_list = []\n",
    "##用os库.walk命令遍历文件夹\n",
    "for files in os.walk(file_dir):\n",
    "##files[2]为遍历结果中文件名部分\n",
    "    for file in files[2]:\n",
    "##用os库.path.splitext将文件名和扩展名分开，查询扩展名是否为pdf\n",
    "        if os.path.splitext(file)[1] == '.pdf' or os.path.splitext(file)[1] == '.PDF':\n",
    "##把路径加入列表\n",
    "            file_list.append(file_dir + '\\\\' + file)\n",
    "file_list"
   ]
  },
  {
   "cell_type": "code",
   "execution_count": null,
   "id": "ff3aba9f-37ec-493e-935f-c6a972db2737",
   "metadata": {},
   "outputs": [],
   "source": [
    "#文本解析和内容筛选\n",
    "pdf_all = []\n",
    "#range中设置分析数量\n",
    "#for i in range(len(file_list)):\n",
    "for i in range(20):\n",
    "##使用pdfplumber库的open命令和pages命令打开文件并获取页码数\n",
    "    pdf = pdfplumber.open(file_list[i])\n",
    "    pages = pdf.pages\n",
    "    # print(pages)\n",
    "    text_all = []\n",
    "##遍历pages中每一页的信息\n",
    "    for page in pages:  \n",
    "##使用pdfplumber库的extract_text命令提取当页的文本内容\n",
    "        text = page.extract_text()  \n",
    "##汇总每一页内容\n",
    "        text_all.append(text)  \n",
    "    try:\n",
    "        text_all = ''.join(text_all)  \n",
    "    except:\n",
    "        print('格式不对')\n",
    "        pass\n",
    "    print(f'完成一个{file_list[i]}')\n",
    "##关闭pdf\n",
    "    pdf.close()\n",
    "\n",
    "##通过正文进行关键词筛选\n",
    "    if '收益法评估技术说明' in text_all:\n",
    "        pdf_all.append(file_list[i])\n",
    "        print('找到一个!!!!!!!!!!!!!!')\n",
    "##打印筛选后的PDF列表\n",
    "print(pdf_all)  \n",
    "\n"
   ]
  },
  {
   "cell_type": "code",
   "execution_count": null,
   "id": "35a50da8-e527-414e-b88f-172b6696cc82",
   "metadata": {},
   "outputs": [],
   "source": [
    "# 筛选后文件的移动\n",
    "for pdf_i in pdf_all:\n",
    "##设置存储文件夹，文件夹要提前建好\n",
    "##用os库的.rename命令将文件重命名到新文件夹\n",
    "    newpath = 'c:\\\\shouyifa\\\\' + pdf_i.split('\\\\')[-1]  \n",
    "    os.rename(pdf_i, newpath)  \n",
    "\n",
    "print('PDF文本解析及筛选完毕！')"
   ]
  }
 ],
 "metadata": {
  "kernelspec": {
   "display_name": "Python 3 (ipykernel)",
   "language": "python",
   "name": "python3"
  },
  "language_info": {
   "codemirror_mode": {
    "name": "ipython",
    "version": 3
   },
   "file_extension": ".py",
   "mimetype": "text/x-python",
   "name": "python",
   "nbconvert_exporter": "python",
   "pygments_lexer": "ipython3",
   "version": "3.11.0"
  }
 },
 "nbformat": 4,
 "nbformat_minor": 5
}
