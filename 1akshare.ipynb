{
 "cells": [
  {
   "cell_type": "code",
   "execution_count": null,
   "id": "f4c81b8f-1815-40ba-bc98-af65978d48b6",
   "metadata": {},
   "outputs": [],
   "source": [
    "# Akshare库数据提取"
   ]
  },
  {
   "cell_type": "code",
   "execution_count": null,
   "id": "b66b7d2b-b727-4c2a-b336-71de924a2452",
   "metadata": {},
   "outputs": [],
   "source": [
    "## 导入库部分\n",
    "### import命令后面加as,后面使用对应命令时可设置缩写\n",
    "### 导入Akshare库\n",
    "import akshare as ak\n",
    "### 导入pandas库-Python的一个数据结构包，方便后续进行数据存储和显示\n",
    "import pandas as pd"
   ]
  },
  {
   "cell_type": "code",
   "execution_count": null,
   "id": "5525f67f-58a7-4642-bf54-eb313d273d34",
   "metadata": {},
   "outputs": [],
   "source": [
    "## 程序内容部分"
   ]
  },
  {
   "cell_type": "code",
   "execution_count": null,
   "id": "15a2e75c-a696-4fbe-9e2d-2ec3ef423db2",
   "metadata": {},
   "outputs": [],
   "source": [
    "### 使用akshare网站示例程序拉取数据，简单拉取全部a股上市公司行情数据并存入pandas表df\n",
    "stock_zh_a_spot_em_df = ak.stock_zh_a_spot_em()\n",
    "df=stock_zh_a_spot_em_df\n",
    "df\n"
   ]
  },
  {
   "cell_type": "code",
   "execution_count": null,
   "id": "c3f9ae95-d683-4e5e-ae2e-151644d40f6c",
   "metadata": {},
   "outputs": [],
   "source": [
    "###市盈率排序,pandas库功能，对pandas表中列使用sort_values进行排序\n",
    "df.sort_values('市盈率-动态')"
   ]
  },
  {
   "cell_type": "code",
   "execution_count": null,
   "id": "844b980e-ddb8-40d6-ac23-cf2b171edfa6",
   "metadata": {},
   "outputs": [],
   "source": [
    "###pandas表简单查询\n",
    "df[df['名称']=='中兵红箭']"
   ]
  },
  {
   "cell_type": "code",
   "execution_count": null,
   "id": "4f99ad7b",
   "metadata": {},
   "outputs": [],
   "source": [
    "df[(df['市净率']<1)&(df['市净率']>0)]"
   ]
  }
 ],
 "metadata": {
  "kernelspec": {
   "display_name": "Python 3 (ipykernel)",
   "language": "python",
   "name": "python3"
  },
  "language_info": {
   "codemirror_mode": {
    "name": "ipython",
    "version": 3
   },
   "file_extension": ".py",
   "mimetype": "text/x-python",
   "name": "python",
   "nbconvert_exporter": "python",
   "pygments_lexer": "ipython3",
   "version": "3.11.0"
  }
 },
 "nbformat": 4,
 "nbformat_minor": 5
}
