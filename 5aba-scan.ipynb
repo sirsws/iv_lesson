{
 "cells": [
  {
   "cell_type": "code",
   "execution_count": null,
   "id": "62a699aa-24ff-45c3-853c-743aea5a6507",
   "metadata": {},
   "outputs": [],
   "source": [
    "#技术文档https://ai.baidu.com/ai-doc/REFERENCE/Ck3dwjhhu 点击python获取python的token获取代码"
   ]
  },
  {
   "cell_type": "code",
   "execution_count": null,
   "id": "0ee766a8-428d-4158-831e-f2bd542e330e",
   "metadata": {},
   "outputs": [],
   "source": [
    "# encoding:utf-8\n",
    "import requests \n",
    "\n",
    "# client_id 为官网获取的AK， client_secret 为官网获取的SK\n",
    "host = 'https://aip.baidubce.com/oauth/2.0/token?grant_type=client_credentials&client_id=ZxqbMRbgfEHFFxj3kLKkok8N&client_secret=3ZWCkk5il6VjEYZT6ZsUpIOjgfX27dz9'\n",
    "response = requests.get(host)\n",
    "if response:\n",
    "    print(response.json())"
   ]
  },
  {
   "cell_type": "code",
   "execution_count": null,
   "id": "177ef040-3420-47ae-9b94-ecb95090379f",
   "metadata": {},
   "outputs": [],
   "source": [
    "#复制上面结果中的access_token部分"
   ]
  },
  {
   "cell_type": "code",
   "execution_count": null,
   "id": "a684696b",
   "metadata": {},
   "outputs": [],
   "source": [
    "token='24.6d69501a9e59a15028b979f59df23a43.2592000.1680149375.282335-25645440'"
   ]
  },
  {
   "cell_type": "code",
   "execution_count": null,
   "id": "61c26261-f2c1-4a25-9ed1-dc07478be1a1",
   "metadata": {},
   "outputs": [],
   "source": [
    "#文档识别：技术文档https://cloud.baidu.com/doc/OCR/s/1k3h7y3db 点击python获取python的OCR代码"
   ]
  },
  {
   "cell_type": "code",
   "execution_count": null,
   "id": "f70b732a",
   "metadata": {},
   "outputs": [],
   "source": [
    "# encoding:utf-8\n",
    "\n",
    "import requests\n",
    "import base64\n",
    "\n",
    "'''\n",
    "通用文字识别（高精度版）\n",
    "'''\n",
    "\n",
    "request_url = \"https://aip.baidubce.com/rest/2.0/ocr/v1/accurate_basic\"\n",
    "# 二进制方式打开图片文件\n",
    "f = open('[本地文件]', 'rb')\n",
    "img = base64.b64encode(f.read())\n",
    "\n",
    "params = {\"image\":img}\n",
    "access_token = '[调用鉴权接口获取的token]'\n",
    "request_url = request_url + \"?access_token=\" + access_token\n",
    "headers = {'content-type': 'application/x-www-form-urlencoded'}\n",
    "response = requests.post(request_url, data=params, headers=headers)\n",
    "if response:\n",
    "    print (response.json())"
   ]
  },
  {
   "cell_type": "code",
   "execution_count": null,
   "id": "916272ec-13f1-46b9-86d4-980c779073e1",
   "metadata": {},
   "outputs": [],
   "source": [
    "# encoding:utf-8\n",
    "\n",
    "import requests\n",
    "import base64\n",
    "\n",
    "'''\n",
    "通用文字识别（高精度版）\n",
    "'''\n",
    "\n",
    "request_url = \"https://aip.baidubce.com/rest/2.0/ocr/v1/accurate_basic\"\n",
    "# 二进制方式打开图片文件\n",
    "f = open('5-1合同.png', 'rb')\n",
    "img = base64.b64encode(f.read())\n",
    "\n",
    "params = {\"image\":img}\n",
    "access_token = token\n",
    "request_url = request_url + \"?access_token=\" + access_token\n",
    "headers = {'content-type': 'application/x-www-form-urlencoded'}\n",
    "response = requests.post(request_url, data=params, headers=headers)\n",
    "if response:\n",
    "    print (response.json())"
   ]
  },
  {
   "cell_type": "code",
   "execution_count": null,
   "id": "3587f47c-ac17-4930-9197-ddcf9a3430d8",
   "metadata": {},
   "outputs": [],
   "source": [
    "#智能财务票据识别：技术文档https://cloud.baidu.com/doc/OCR/s/7ktb8md0j 点击python获取python的OCR代码"
   ]
  },
  {
   "cell_type": "code",
   "execution_count": null,
   "id": "5e878dad",
   "metadata": {},
   "outputs": [],
   "source": [
    "# encoding:utf-8\n",
    "\n",
    "import requests\n",
    "import base64\n",
    "\n",
    "'''\n",
    "智能财务票据识别\n",
    "'''\n",
    "\n",
    "request_url = \"https://aip.baidubce.com/rest/2.0/ocr/v1/multiple_invoice\"\n",
    "# 二进制方式打开图片文件\n",
    "f = open('[本地文件]', 'rb')\n",
    "img = base64.b64encode(f.read())\n",
    "\n",
    "params = {\"image\":img}\n",
    "access_token = '[调用鉴权接口获取的token]'\n",
    "request_url = request_url + \"?access_token=\" + access_token\n",
    "headers = {'content-type': 'application/x-www-form-urlencoded'}\n",
    "response = requests.post(request_url, data=params, headers=headers)\n",
    "if response:\n",
    "    print (response.json())"
   ]
  },
  {
   "cell_type": "code",
   "execution_count": null,
   "id": "bc8f6f99-40eb-4e34-8ef2-ac8355de5043",
   "metadata": {},
   "outputs": [],
   "source": [
    "# encoding:utf-8\n",
    "\n",
    "import requests\n",
    "import base64\n",
    "\n",
    "'''\n",
    "智能财务票据识别\n",
    "'''\n",
    "\n",
    "request_url = \"https://aip.baidubce.com/rest/2.0/ocr/v1/multiple_invoice\"\n",
    "# 二进制方式打开图片文件\n",
    "f = open('5-2发票.png', 'rb')\n",
    "img = base64.b64encode(f.read())\n",
    "\n",
    "params = {\"image\":img}\n",
    "access_token = token\n",
    "request_url = request_url + \"?access_token=\" + access_token\n",
    "headers = {'content-type': 'application/x-www-form-urlencoded'}\n",
    "response = requests.post(request_url, data=params, headers=headers)\n",
    "if response:\n",
    "    print (response.json())"
   ]
  },
  {
   "cell_type": "code",
   "execution_count": null,
   "id": "4a624317-2df0-4b47-8a5b-5f9af24d4368",
   "metadata": {},
   "outputs": [],
   "source": [
    "print(response.json()['words_result'][0]['result']['PurchaserName'][0]['word'])\n",
    "print(response.json()['words_result'][0]['result']['TotalAmount'][0]['word'])\n",
    "print(response.json()['words_result'][0]['result']['TotalTax'][0]['word'])\n",
    "print(response.json()['words_result'][0]['result']['AmountInFiguers'][0]['word'])"
   ]
  }
 ],
 "metadata": {
  "kernelspec": {
   "display_name": "Python 3 (ipykernel)",
   "language": "python",
   "name": "python3"
  },
  "language_info": {
   "codemirror_mode": {
    "name": "ipython",
    "version": 3
   },
   "file_extension": ".py",
   "mimetype": "text/x-python",
   "name": "python",
   "nbconvert_exporter": "python",
   "pygments_lexer": "ipython3",
   "version": "3.11.0"
  }
 },
 "nbformat": 4,
 "nbformat_minor": 5
}
