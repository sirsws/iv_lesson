{
 "cells": [
  {
   "cell_type": "code",
   "execution_count": null,
   "id": "c2d0d325",
   "metadata": {},
   "outputs": [],
   "source": [
    "#简化版市场法估值程序"
   ]
  },
  {
   "cell_type": "code",
   "execution_count": null,
   "id": "b77277cd",
   "metadata": {},
   "outputs": [],
   "source": [
    "#导入库\n",
    "import pandas as pd\n",
    "import akshare as ak\n",
    "import datetime"
   ]
  },
  {
   "cell_type": "code",
   "execution_count": null,
   "id": "c2c3b605",
   "metadata": {},
   "outputs": [],
   "source": [
    "##申万行业分类表格提取\n",
    "basestation =\"swclass217.xlsx\"\n",
    "###pandas库提取excel命令.read_excel\n",
    "data = pd.read_excel(basestation)\n",
    "data"
   ]
  },
  {
   "cell_type": "code",
   "execution_count": null,
   "id": "d989da1b",
   "metadata": {},
   "outputs": [],
   "source": [
    "##设置基准日和待查上市公司名\n",
    "b_date='20230228'\n",
    "c_name='双汇发展'"
   ]
  },
  {
   "cell_type": "code",
   "execution_count": null,
   "id": "2aea6bac",
   "metadata": {},
   "outputs": [],
   "source": [
    "##pandas用&进行多条件'与'筛选行业名称及A股同行业公司\n",
    "###选取行业\n",
    "ind_name=data[(data['公司简称']==c_name)&(data['交易所']=='A股')]['新版三级行业']\n",
    "###重置序号\n",
    "ind_name.index=[0]\n",
    "###筛选同行业公司\n",
    "data[(data['新版三级行业']==ind_name[0])&(data['交易所']=='A股')]"
   ]
  },
  {
   "cell_type": "code",
   "execution_count": null,
   "id": "3d528d08",
   "metadata": {},
   "outputs": [],
   "source": [
    "##取行业中位数乘数\n",
    "###建立空存储列表\n",
    "industry_ps_list=[]\n",
    "industry_pe_list=[]\n",
    "industry_pb_list=[]\n",
    "###调整日期格式匹配市盈率库\n",
    "b_date1=datetime.date(int(b_date[0:4]), int(b_date[4:6]), int(b_date[6:8]))\n",
    "###批量拉取数据并存入列表\n",
    "for i in data[(data['新版三级行业']==ind_name[0])&(data['交易所']=='A股')]['股票代码']:\n",
    "#清洗股票代码和日期格式为提取格式对应\n",
    "    b=i.split('.')\n",
    "    i=b[0]\n",
    "    stock_a_lg_indicator_df = ak.stock_a_lg_indicator(symbol=i)\n",
    "####将负市盈率填充为-1\n",
    "    indu_df=stock_a_lg_indicator_df.fillna(-1)    \n",
    "    industry_ps_list.append(indu_df[indu_df['trade_date']==b_date1]['ps_ttm'].values[0])\n",
    "    industry_pe_list.append(indu_df[indu_df['trade_date']==b_date1]['pe_ttm'].values[0])\n",
    "    industry_pb_list.append(indu_df[indu_df['trade_date']==b_date1]['pb'].values[0])\n",
    "industry_temp=pd.DataFrame()\n",
    "industry_temp['ps_ttm']=industry_ps_list\n",
    "industry_temp['pe_ttm']=industry_pe_list\n",
    "industry_temp['pb']=industry_pb_list\n",
    "#print(industry_temp)\n",
    "####使用pandas的median函数计算行业乘数中位数\n",
    "industry_temp_ps=industry_temp['ps_ttm'].median()\n",
    "industry_temp_pe=industry_temp['pe_ttm'].median() \n",
    "industry_temp_pb=industry_temp['pb'].median() \n",
    "industry_temp_ps,industry_temp_pe,industry_temp_pb"
   ]
  },
  {
   "cell_type": "code",
   "execution_count": null,
   "id": "109cd08c",
   "metadata": {},
   "outputs": [],
   "source": [
    "##各指标乘数估值测算\n",
    "###拉取个股数据\n",
    "###公司名称->代码\n",
    "stock_data = ak.stock_zh_a_spot_em()\n",
    "c_code=stock_data[stock_data[\"名称\"]==c_name].iloc[0][\"代码\"]\n",
    "###收盘价close,ps_ttm,pe_ttm,pb\n",
    "stock_data = ak.stock_zh_a_hist(symbol=c_code, period=\"daily\", start_date=b_date, end_date=b_date, adjust=\"qfq\")\n",
    "stock_price = stock_data.iloc[0][\"收盘\"]\n",
    "rate_df = ak.stock_a_lg_indicator(symbol=i)\n",
    "df = pd.DataFrame({\n",
    "    \"股票名称\": [c_name],\n",
    "    \"股票代码\": [c_code],\n",
    "    \"基准日\": [b_date],\n",
    "    \"close\": [stock_price],\n",
    "    \"ps_ttm\": [rate_df[rate_df['trade_date']==b_date1]['ps_ttm'].values[0]],\n",
    "    \"pe_ttm\": [rate_df[rate_df['trade_date']==b_date1]['pe_ttm'].values[0]],\n",
    "    \"pb\": [rate_df[rate_df['trade_date']==b_date1]['pb'].values[0]]\n",
    "})\n",
    "###各指标乘数估值测算\n",
    "price_ps=df['close'][0]*industry_temp_ps/df['ps_ttm'][0]\n",
    "price_pe=df['close'][0]*industry_temp_pe/df['pe_ttm'][0]\n",
    "price_pb=df['close'][0]*industry_temp_pb/df['pb'][0]\n",
    "###异常处理\n",
    "if price_ps<0:\n",
    "    price_ps=0\n",
    "if price_pe<0:\n",
    "    price_pe=0\n",
    "if price_pb<0:\n",
    "    price_pb=0\n",
    "\n",
    "##分行业类型和是否科创板测算市场法估值\n",
    "###给出科创板、传统行业、其他行业权重\n",
    "\n",
    "mv_weight_kcb=[]\n",
    "mv_weight_tradi=[]\n",
    "mv_weight_else=[0.2,0.5,0.3]\n",
    "if industry_temp_pe<0:\n",
    "    mv_weight_kcb=[]\n",
    "    mv_weight_tradi=[]\n",
    "    mv_weight_else=[0.2,0,0.8]      \n",
    "\n",
    "###兜底估值\n",
    "mv_weight=[0,0,1]\n",
    "mv_basic=mv_weight[0]*price_ps+mv_weight[1]*price_pe+mv_weight[2]*price_pb\n",
    "###分行业估值\n",
    "###这里简化判断行业部分，请同学们自行设定分类\n",
    "industry_def='传统行业'\n",
    "if industry_def=='科创板':\n",
    "    mv_weight=mv_weight_kcb\n",
    "    mv=mv_weight[0]*price_ps+mv_weight[1]*price_pe+mv_weight[2]*price_pb\n",
    "elif industry_def=='传统行业':\n",
    "    mv=mv_basic\n",
    "else:\n",
    "    mv_weight=mv_weight_else\n",
    "    mv=mv_weight[0]*price_ps+mv_weight[1]*price_pe+mv_weight[2]*price_pb\n",
    "if mv<mv_basic:\n",
    "    mv=mv_basic\n",
    "\n",
    "print(c_name+b_date+'日股价为'+str(df['close'][0])+'元,'+'市场法估值结果为'+str(round(mv,2))+'元')"
   ]
  },
  {
   "cell_type": "code",
   "execution_count": null,
   "id": "3bb2f773",
   "metadata": {},
   "outputs": [],
   "source": [
    "#相比个人软著的简化部分，peg等其他加权指标，智能行业分类，数据库连接，更多的异常处理"
   ]
  },
  {
   "cell_type": "code",
   "execution_count": null,
   "id": "67d575d0",
   "metadata": {},
   "outputs": [],
   "source": [
    "#生成可视化图表"
   ]
  },
  {
   "cell_type": "code",
   "execution_count": null,
   "id": "f03e2ef8",
   "metadata": {},
   "outputs": [],
   "source": [
    "#导入图表对应库\n",
    "import matplotlib.pyplot as plt"
   ]
  },
  {
   "cell_type": "code",
   "execution_count": null,
   "id": "8097ad3d",
   "metadata": {},
   "outputs": [],
   "source": [
    "# 数据可视化\n",
    "##.figure创建图像\n",
    "fig=plt.figure()\n",
    "##显示中文字体(.rcParams)参数设置命令\n",
    "plt.rcParams['font.sans-serif'] = ['SimHei']  \n",
    "##处理负号显示\n",
    "plt.rcParams['axes.unicode_minus'] = False  \n",
    "##估价图\n",
    "label_list = [df['close'][0],round(mv,2)]\n",
    "num_list1 = [float(df['close'][0])]      \n",
    "num_list2 = [float(round(mv,2))]      \n",
    "\n",
    "\n",
    "\"\"\"\n",
    "绘制条形图（.bar）\n",
    "起点位置\n",
    "height:长条形高度\n",
    "width:长条形宽度\n",
    "label:为后面设置legend准备\n",
    "\"\"\"\n",
    "rects1 = plt.bar(0, height=num_list1, width=0.4, color='red', label=\"当前股价\")\n",
    "rects2 = plt.bar(0.4, height=num_list2, width=0.4, color='aqua', label=\"市场比较估价\")\n",
    "\"\"\"\n",
    "设置x轴刻度显示值(.xticks)\n",
    "参数一：中点坐标\n",
    "参数二：显示值\n",
    "\"\"\"\n",
    "plt.xticks([0,0.4], label_list)\n",
    "plt.title(f\"{c_name}简式市场比较估价\")\n",
    "## 设置题注\n",
    "plt.legend()     \n",
    "\n",
    "##显示图片\n",
    "plt.show()\n",
    "##关闭画图\n",
    "plt.close()"
   ]
  },
  {
   "cell_type": "code",
   "execution_count": null,
   "id": "196eef4e",
   "metadata": {},
   "outputs": [],
   "source": [
    "#生成excel"
   ]
  },
  {
   "cell_type": "code",
   "execution_count": null,
   "id": "4ebccb3c",
   "metadata": {},
   "outputs": [],
   "source": [
    "#导入excel对应库\n",
    "import xlwings as xw"
   ]
  },
  {
   "cell_type": "code",
   "execution_count": null,
   "id": "00104dbb",
   "metadata": {},
   "outputs": [],
   "source": [
    "##创建Excel文件，并设置为不可见\n",
    "app = xw.App(visible=False)\n",
    "wb = app.books.add()\n",
    "##创建excel工作表\n",
    "sht = wb.sheets.add('project')\n",
    "##写内容(.range位置.value内容，format字符串中加函数简化为f+{})\n",
    "sht.range(1,1).value = f'使用市场比较估价法对{c_name}公司进行估价分析.\\n\\n\\\n",
    "(仅供参考，不作为投资依据)'\n",
    "sht.range(2,1).value = f'数据来源:Tushare'\n",
    "sht.range(3,1).value = f'日期:{b_date}'\n",
    "price=df['close'][0]\n",
    "sht.range(4,1).value = f'股价为{price}元,市场法估值结果为{str(round(mv,2))}元'\n",
    "##调整格式\n",
    "###.column_width宽\n",
    "sht.range(\"A1:G100\").column_width = 25\n",
    "###.api.WrapText文字自动换行\n",
    "sht.range(\"A1:A4\").api.WrapText = True\n",
    "###合并单元格.merge\n",
    "sht.range(\"A1:B1\").merge()\n",
    "sht.range(\"A4:B4\").merge()\n",
    "###.row_height行高\n",
    "sht.range(\"A1\").row_height = 50\n",
    "###设置字体边框\n",
    "sht.range(\"A1:G100\").api.Font.Size = 12          # 设置字体的大小。\n",
    "sht.range(\"A1:G100\").api.Font.Bold = True        # 设置为粗体。\n",
    "sht.range(\"A1:B4\").api.Borders(7).LineStyle = 1\n",
    "sht.range(\"A1:B4\").api.Borders(8).LineStyle = 1\n",
    "sht.range(\"A1:B4\").api.Borders(9).LineStyle = 1\n",
    "sht.range(\"A1:B4\").api.Borders(10).LineStyle = 1\n",
    "###插入图片.pictures.add\n",
    "sht.pictures.add(fig, name='图1', update=True, left=400)\n",
    "###文件储存\n",
    "wb.save(f'{c_name}估价报告.xlsx')\n",
    "###关闭excel链接\n",
    "wb.close()\n",
    "app.quit()"
   ]
  },
  {
   "cell_type": "code",
   "execution_count": null,
   "id": "66d03d02",
   "metadata": {},
   "outputs": [],
   "source": [
    "#生成word"
   ]
  },
  {
   "cell_type": "code",
   "execution_count": null,
   "id": "fe3301dd",
   "metadata": {},
   "outputs": [],
   "source": [
    "#导入word对应库\n",
    "##pip install python-docx\n",
    "import docx\n",
    "##创建word文件\n",
    "file = docx.Document()\n",
    "##设置居中.paragraph_format.alignment = WD_ALIGN_PARAGRAPH.CENTER\n",
    "from docx.enum.text import WD_ALIGN_PARAGRAPH\n",
    "##添加标题\n",
    "file.add_heading(f'{c_name}估价报告', level=0).paragraph_format.alignment = WD_ALIGN_PARAGRAPH.CENTER\n",
    "##添加文字.add_paragraph\n",
    "file.add_paragraph(f'使用市场比较估价法对{c_name}公司进行估价分析.').paragraph_format.alignment = WD_ALIGN_PARAGRAPH.CENTER\n",
    "file.add_paragraph('(仅供参考，不作为投资依据)').paragraph_format.alignment = WD_ALIGN_PARAGRAPH.CENTER\n",
    "file.add_paragraph('数据来源:Tushare').paragraph_format.alignment = WD_ALIGN_PARAGRAPH.CENTER\n",
    "file.add_paragraph(f'股价为{price}元,市场法估值结果为{str(round(mv,2))}元').paragraph_format.alignment = WD_ALIGN_PARAGRAPH.CENTER\n",
    "###插入图片.addpictures\n",
    "file.add_picture('temp.jpg')\n",
    "###文件储存.save\n",
    "file.save(f'{c_name}估价报告.docx') "
   ]
  }
 ],
 "metadata": {
  "kernelspec": {
   "display_name": "Python 3 (ipykernel)",
   "language": "python",
   "name": "python3"
  },
  "language_info": {
   "codemirror_mode": {
    "name": "ipython",
    "version": 3
   },
   "file_extension": ".py",
   "mimetype": "text/x-python",
   "name": "python",
   "nbconvert_exporter": "python",
   "pygments_lexer": "ipython3",
   "version": "3.11.0"
  }
 },
 "nbformat": 4,
 "nbformat_minor": 5
}
